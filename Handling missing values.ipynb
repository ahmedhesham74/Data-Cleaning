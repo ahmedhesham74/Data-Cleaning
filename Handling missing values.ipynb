{
 "cells": [
  {
   "cell_type": "markdown",
   "id": "6a22ebaa",
   "metadata": {
    "papermill": {
     "duration": 0.008156,
     "end_time": "2023-03-22T14:11:38.263560",
     "exception": false,
     "start_time": "2023-03-22T14:11:38.255404",
     "status": "completed"
    },
    "tags": []
   },
   "source": [
    "**This notebook is an exercise in the [Data Cleaning](https://www.kaggle.com/learn/data-cleaning) course.  You can reference the tutorial at [this link](https://www.kaggle.com/alexisbcook/handling-missing-values).**\n",
    "\n",
    "---\n"
   ]
  },
  {
   "cell_type": "markdown",
   "id": "e46d35bf",
   "metadata": {
    "papermill": {
     "duration": 0.007839,
     "end_time": "2023-03-22T14:11:38.278446",
     "exception": false,
     "start_time": "2023-03-22T14:11:38.270607",
     "status": "completed"
    },
    "tags": []
   },
   "source": [
    "In this exercise, you'll apply what you learned in the **Handling missing values** tutorial.\n",
    "\n",
    "# Setup\n",
    "\n",
    "The questions below will give you feedback on your work. Run the following cell to set up the feedback system."
   ]
  },
  {
   "cell_type": "code",
   "execution_count": 1,
   "id": "8d9b5c35",
   "metadata": {
    "execution": {
     "iopub.execute_input": "2023-03-22T14:11:38.295852Z",
     "iopub.status.busy": "2023-03-22T14:11:38.295356Z",
     "iopub.status.idle": "2023-03-22T14:11:43.278543Z",
     "shell.execute_reply": "2023-03-22T14:11:43.276972Z"
    },
    "papermill": {
     "duration": 4.995516,
     "end_time": "2023-03-22T14:11:43.281974",
     "exception": false,
     "start_time": "2023-03-22T14:11:38.286458",
     "status": "completed"
    },
    "tags": []
   },
   "outputs": [
    {
     "name": "stderr",
     "output_type": "stream",
     "text": [
      "/opt/conda/lib/python3.7/site-packages/ipykernel_launcher.py:3: DtypeWarning: Columns (22,32) have mixed types.Specify dtype option on import or set low_memory=False.\n",
      "  This is separate from the ipykernel package so we can avoid doing imports until\n"
     ]
    },
    {
     "name": "stdout",
     "output_type": "stream",
     "text": [
      "Setup Complete\n"
     ]
    }
   ],
   "source": [
    "from learntools.core import binder\n",
    "binder.bind(globals())\n",
    "from learntools.data_cleaning.ex1 import *\n",
    "print(\"Setup Complete\")"
   ]
  },
  {
   "cell_type": "markdown",
   "id": "349e4575",
   "metadata": {
    "papermill": {
     "duration": 0.006847,
     "end_time": "2023-03-22T14:11:43.296161",
     "exception": false,
     "start_time": "2023-03-22T14:11:43.289314",
     "status": "completed"
    },
    "tags": []
   },
   "source": [
    "# 1) Take a first look at the data\n",
    "\n",
    "Run the next code cell to load in the libraries and dataset you'll use to complete the exercise."
   ]
  },
  {
   "cell_type": "code",
   "execution_count": 2,
   "id": "60de6337",
   "metadata": {
    "execution": {
     "iopub.execute_input": "2023-03-22T14:11:43.313244Z",
     "iopub.status.busy": "2023-03-22T14:11:43.311886Z",
     "iopub.status.idle": "2023-03-22T14:11:45.282530Z",
     "shell.execute_reply": "2023-03-22T14:11:45.281178Z"
    },
    "papermill": {
     "duration": 1.982189,
     "end_time": "2023-03-22T14:11:45.285329",
     "exception": false,
     "start_time": "2023-03-22T14:11:43.303140",
     "status": "completed"
    },
    "tags": []
   },
   "outputs": [
    {
     "name": "stderr",
     "output_type": "stream",
     "text": [
      "/opt/conda/lib/python3.7/site-packages/IPython/core/interactiveshell.py:3553: DtypeWarning: Columns (22,32) have mixed types.Specify dtype option on import or set low_memory=False.\n",
      "  exec(code_obj, self.user_global_ns, self.user_ns)\n"
     ]
    }
   ],
   "source": [
    "# modules we'll use\n",
    "import pandas as pd\n",
    "import numpy as np\n",
    "\n",
    "# read in all our data\n",
    "sf_permits = pd.read_csv(\"../input/building-permit-applications-data/Building_Permits.csv\")\n",
    "\n",
    "# set seed for reproducibility\n",
    "np.random.seed(0) "
   ]
  },
  {
   "cell_type": "markdown",
   "id": "27446cc8",
   "metadata": {
    "papermill": {
     "duration": 0.006715,
     "end_time": "2023-03-22T14:11:45.299043",
     "exception": false,
     "start_time": "2023-03-22T14:11:45.292328",
     "status": "completed"
    },
    "tags": []
   },
   "source": [
    "Use the code cell below to print the first five rows of the `sf_permits` DataFrame."
   ]
  },
  {
   "cell_type": "code",
   "execution_count": 3,
   "id": "b15d0922",
   "metadata": {
    "execution": {
     "iopub.execute_input": "2023-03-22T14:11:45.314950Z",
     "iopub.status.busy": "2023-03-22T14:11:45.314419Z",
     "iopub.status.idle": "2023-03-22T14:11:45.364067Z",
     "shell.execute_reply": "2023-03-22T14:11:45.362689Z"
    },
    "papermill": {
     "duration": 0.061367,
     "end_time": "2023-03-22T14:11:45.367281",
     "exception": false,
     "start_time": "2023-03-22T14:11:45.305914",
     "status": "completed"
    },
    "tags": []
   },
   "outputs": [
    {
     "data": {
      "text/html": [
       "<div>\n",
       "<style scoped>\n",
       "    .dataframe tbody tr th:only-of-type {\n",
       "        vertical-align: middle;\n",
       "    }\n",
       "\n",
       "    .dataframe tbody tr th {\n",
       "        vertical-align: top;\n",
       "    }\n",
       "\n",
       "    .dataframe thead th {\n",
       "        text-align: right;\n",
       "    }\n",
       "</style>\n",
       "<table border=\"1\" class=\"dataframe\">\n",
       "  <thead>\n",
       "    <tr style=\"text-align: right;\">\n",
       "      <th></th>\n",
       "      <th>Permit Number</th>\n",
       "      <th>Permit Type</th>\n",
       "      <th>Permit Type Definition</th>\n",
       "      <th>Permit Creation Date</th>\n",
       "      <th>Block</th>\n",
       "      <th>Lot</th>\n",
       "      <th>Street Number</th>\n",
       "      <th>Street Number Suffix</th>\n",
       "      <th>Street Name</th>\n",
       "      <th>Street Suffix</th>\n",
       "      <th>...</th>\n",
       "      <th>Existing Construction Type</th>\n",
       "      <th>Existing Construction Type Description</th>\n",
       "      <th>Proposed Construction Type</th>\n",
       "      <th>Proposed Construction Type Description</th>\n",
       "      <th>Site Permit</th>\n",
       "      <th>Supervisor District</th>\n",
       "      <th>Neighborhoods - Analysis Boundaries</th>\n",
       "      <th>Zipcode</th>\n",
       "      <th>Location</th>\n",
       "      <th>Record ID</th>\n",
       "    </tr>\n",
       "  </thead>\n",
       "  <tbody>\n",
       "    <tr>\n",
       "      <th>0</th>\n",
       "      <td>201505065519</td>\n",
       "      <td>4</td>\n",
       "      <td>sign - erect</td>\n",
       "      <td>05/06/2015</td>\n",
       "      <td>0326</td>\n",
       "      <td>023</td>\n",
       "      <td>140</td>\n",
       "      <td>NaN</td>\n",
       "      <td>Ellis</td>\n",
       "      <td>St</td>\n",
       "      <td>...</td>\n",
       "      <td>3.0</td>\n",
       "      <td>constr type 3</td>\n",
       "      <td>NaN</td>\n",
       "      <td>NaN</td>\n",
       "      <td>NaN</td>\n",
       "      <td>3.0</td>\n",
       "      <td>Tenderloin</td>\n",
       "      <td>94102.0</td>\n",
       "      <td>(37.785719256680785, -122.40852313194863)</td>\n",
       "      <td>1380611233945</td>\n",
       "    </tr>\n",
       "    <tr>\n",
       "      <th>1</th>\n",
       "      <td>201604195146</td>\n",
       "      <td>4</td>\n",
       "      <td>sign - erect</td>\n",
       "      <td>04/19/2016</td>\n",
       "      <td>0306</td>\n",
       "      <td>007</td>\n",
       "      <td>440</td>\n",
       "      <td>NaN</td>\n",
       "      <td>Geary</td>\n",
       "      <td>St</td>\n",
       "      <td>...</td>\n",
       "      <td>3.0</td>\n",
       "      <td>constr type 3</td>\n",
       "      <td>NaN</td>\n",
       "      <td>NaN</td>\n",
       "      <td>NaN</td>\n",
       "      <td>3.0</td>\n",
       "      <td>Tenderloin</td>\n",
       "      <td>94102.0</td>\n",
       "      <td>(37.78733980600732, -122.41063199757738)</td>\n",
       "      <td>1420164406718</td>\n",
       "    </tr>\n",
       "    <tr>\n",
       "      <th>2</th>\n",
       "      <td>201605278609</td>\n",
       "      <td>3</td>\n",
       "      <td>additions alterations or repairs</td>\n",
       "      <td>05/27/2016</td>\n",
       "      <td>0595</td>\n",
       "      <td>203</td>\n",
       "      <td>1647</td>\n",
       "      <td>NaN</td>\n",
       "      <td>Pacific</td>\n",
       "      <td>Av</td>\n",
       "      <td>...</td>\n",
       "      <td>1.0</td>\n",
       "      <td>constr type 1</td>\n",
       "      <td>1.0</td>\n",
       "      <td>constr type 1</td>\n",
       "      <td>NaN</td>\n",
       "      <td>3.0</td>\n",
       "      <td>Russian Hill</td>\n",
       "      <td>94109.0</td>\n",
       "      <td>(37.7946573324287, -122.42232562979227)</td>\n",
       "      <td>1424856504716</td>\n",
       "    </tr>\n",
       "    <tr>\n",
       "      <th>3</th>\n",
       "      <td>201611072166</td>\n",
       "      <td>8</td>\n",
       "      <td>otc alterations permit</td>\n",
       "      <td>11/07/2016</td>\n",
       "      <td>0156</td>\n",
       "      <td>011</td>\n",
       "      <td>1230</td>\n",
       "      <td>NaN</td>\n",
       "      <td>Pacific</td>\n",
       "      <td>Av</td>\n",
       "      <td>...</td>\n",
       "      <td>5.0</td>\n",
       "      <td>wood frame (5)</td>\n",
       "      <td>5.0</td>\n",
       "      <td>wood frame (5)</td>\n",
       "      <td>NaN</td>\n",
       "      <td>3.0</td>\n",
       "      <td>Nob Hill</td>\n",
       "      <td>94109.0</td>\n",
       "      <td>(37.79595867909168, -122.41557405519474)</td>\n",
       "      <td>1443574295566</td>\n",
       "    </tr>\n",
       "    <tr>\n",
       "      <th>4</th>\n",
       "      <td>201611283529</td>\n",
       "      <td>6</td>\n",
       "      <td>demolitions</td>\n",
       "      <td>11/28/2016</td>\n",
       "      <td>0342</td>\n",
       "      <td>001</td>\n",
       "      <td>950</td>\n",
       "      <td>NaN</td>\n",
       "      <td>Market</td>\n",
       "      <td>St</td>\n",
       "      <td>...</td>\n",
       "      <td>3.0</td>\n",
       "      <td>constr type 3</td>\n",
       "      <td>NaN</td>\n",
       "      <td>NaN</td>\n",
       "      <td>NaN</td>\n",
       "      <td>6.0</td>\n",
       "      <td>Tenderloin</td>\n",
       "      <td>94102.0</td>\n",
       "      <td>(37.78315261897309, -122.40950883997789)</td>\n",
       "      <td>144548169992</td>\n",
       "    </tr>\n",
       "  </tbody>\n",
       "</table>\n",
       "<p>5 rows × 43 columns</p>\n",
       "</div>"
      ],
      "text/plain": [
       "  Permit Number  Permit Type            Permit Type Definition  \\\n",
       "0  201505065519            4                      sign - erect   \n",
       "1  201604195146            4                      sign - erect   \n",
       "2  201605278609            3  additions alterations or repairs   \n",
       "3  201611072166            8            otc alterations permit   \n",
       "4  201611283529            6                       demolitions   \n",
       "\n",
       "  Permit Creation Date Block  Lot  Street Number Street Number Suffix  \\\n",
       "0           05/06/2015  0326  023            140                  NaN   \n",
       "1           04/19/2016  0306  007            440                  NaN   \n",
       "2           05/27/2016  0595  203           1647                  NaN   \n",
       "3           11/07/2016  0156  011           1230                  NaN   \n",
       "4           11/28/2016  0342  001            950                  NaN   \n",
       "\n",
       "  Street Name Street Suffix  ...  Existing Construction Type  \\\n",
       "0       Ellis            St  ...                         3.0   \n",
       "1       Geary            St  ...                         3.0   \n",
       "2     Pacific            Av  ...                         1.0   \n",
       "3     Pacific            Av  ...                         5.0   \n",
       "4      Market            St  ...                         3.0   \n",
       "\n",
       "  Existing Construction Type Description Proposed Construction Type  \\\n",
       "0                          constr type 3                        NaN   \n",
       "1                          constr type 3                        NaN   \n",
       "2                          constr type 1                        1.0   \n",
       "3                         wood frame (5)                        5.0   \n",
       "4                          constr type 3                        NaN   \n",
       "\n",
       "  Proposed Construction Type Description Site Permit Supervisor District  \\\n",
       "0                                    NaN         NaN                 3.0   \n",
       "1                                    NaN         NaN                 3.0   \n",
       "2                          constr type 1         NaN                 3.0   \n",
       "3                         wood frame (5)         NaN                 3.0   \n",
       "4                                    NaN         NaN                 6.0   \n",
       "\n",
       "  Neighborhoods - Analysis Boundaries  Zipcode  \\\n",
       "0                          Tenderloin  94102.0   \n",
       "1                          Tenderloin  94102.0   \n",
       "2                        Russian Hill  94109.0   \n",
       "3                            Nob Hill  94109.0   \n",
       "4                          Tenderloin  94102.0   \n",
       "\n",
       "                                    Location      Record ID  \n",
       "0  (37.785719256680785, -122.40852313194863)  1380611233945  \n",
       "1   (37.78733980600732, -122.41063199757738)  1420164406718  \n",
       "2    (37.7946573324287, -122.42232562979227)  1424856504716  \n",
       "3   (37.79595867909168, -122.41557405519474)  1443574295566  \n",
       "4   (37.78315261897309, -122.40950883997789)   144548169992  \n",
       "\n",
       "[5 rows x 43 columns]"
      ]
     },
     "execution_count": 3,
     "metadata": {},
     "output_type": "execute_result"
    }
   ],
   "source": [
    "# TODO: Your code here!\n",
    "sf_permits.head()"
   ]
  },
  {
   "cell_type": "markdown",
   "id": "38c1145a",
   "metadata": {
    "papermill": {
     "duration": 0.007213,
     "end_time": "2023-03-22T14:11:45.382285",
     "exception": false,
     "start_time": "2023-03-22T14:11:45.375072",
     "status": "completed"
    },
    "tags": []
   },
   "source": [
    "Does the dataset have any missing values?  Once you have an answer, run the code cell below to get credit for your work."
   ]
  },
  {
   "cell_type": "code",
   "execution_count": 4,
   "id": "304abd39",
   "metadata": {
    "execution": {
     "iopub.execute_input": "2023-03-22T14:11:45.400211Z",
     "iopub.status.busy": "2023-03-22T14:11:45.398932Z",
     "iopub.status.idle": "2023-03-22T14:11:45.409466Z",
     "shell.execute_reply": "2023-03-22T14:11:45.408218Z"
    },
    "papermill": {
     "duration": 0.022486,
     "end_time": "2023-03-22T14:11:45.412159",
     "exception": false,
     "start_time": "2023-03-22T14:11:45.389673",
     "status": "completed"
    },
    "tags": []
   },
   "outputs": [
    {
     "data": {
      "application/javascript": [
       "parent.postMessage({\"jupyterEvent\": \"custom.exercise_interaction\", \"data\": {\"outcomeType\": 1, \"valueTowardsCompletion\": 0.16666666666666666, \"interactionType\": 1, \"questionType\": 4, \"questionId\": \"1_TakeFirstLook\", \"learnToolsVersion\": \"0.3.4\", \"failureMessage\": \"\", \"exceptionClass\": \"\", \"trace\": \"\"}}, \"*\")"
      ],
      "text/plain": [
       "<IPython.core.display.Javascript object>"
      ]
     },
     "metadata": {},
     "output_type": "display_data"
    },
    {
     "data": {
      "text/markdown": [
       "<span style=\"color:#33cc33\">Correct:</span> \n",
       "\n",
       "The first five rows of the data does show that several columns have missing values.  You can see this in the \"Street Number Suffix\", \"Proposed Construction Type\" and \"Site Permit\" columns, among others."
      ],
      "text/plain": [
       "Correct: \n",
       "\n",
       "The first five rows of the data does show that several columns have missing values.  You can see this in the \"Street Number Suffix\", \"Proposed Construction Type\" and \"Site Permit\" columns, among others."
      ]
     },
     "metadata": {},
     "output_type": "display_data"
    }
   ],
   "source": [
    "# Check your answer (Run this code cell to receive credit!)\n",
    "q1.check()"
   ]
  },
  {
   "cell_type": "code",
   "execution_count": 5,
   "id": "7cddbf71",
   "metadata": {
    "execution": {
     "iopub.execute_input": "2023-03-22T14:11:45.429619Z",
     "iopub.status.busy": "2023-03-22T14:11:45.429108Z",
     "iopub.status.idle": "2023-03-22T14:11:45.434700Z",
     "shell.execute_reply": "2023-03-22T14:11:45.433381Z"
    },
    "papermill": {
     "duration": 0.017533,
     "end_time": "2023-03-22T14:11:45.437283",
     "exception": false,
     "start_time": "2023-03-22T14:11:45.419750",
     "status": "completed"
    },
    "tags": []
   },
   "outputs": [],
   "source": [
    "# Line below will give you a hint\n",
    "#q1.hint()"
   ]
  },
  {
   "cell_type": "markdown",
   "id": "420f5757",
   "metadata": {
    "papermill": {
     "duration": 0.008347,
     "end_time": "2023-03-22T14:11:45.454645",
     "exception": false,
     "start_time": "2023-03-22T14:11:45.446298",
     "status": "completed"
    },
    "tags": []
   },
   "source": [
    "# 2) How many missing data points do we have?\n",
    "\n",
    "What percentage of the values in the dataset are missing?  Your answer should be a number between 0 and 100.  (If 1/4 of the values in the dataset are missing, the answer is 25.)"
   ]
  },
  {
   "cell_type": "code",
   "execution_count": 6,
   "id": "00316fcc",
   "metadata": {
    "execution": {
     "iopub.execute_input": "2023-03-22T14:11:45.473155Z",
     "iopub.status.busy": "2023-03-22T14:11:45.472674Z",
     "iopub.status.idle": "2023-03-22T14:11:45.745137Z",
     "shell.execute_reply": "2023-03-22T14:11:45.743776Z"
    },
    "papermill": {
     "duration": 0.285162,
     "end_time": "2023-03-22T14:11:45.747735",
     "exception": false,
     "start_time": "2023-03-22T14:11:45.462573",
     "status": "completed"
    },
    "tags": []
   },
   "outputs": [
    {
     "name": "stdout",
     "output_type": "stream",
     "text": [
      "26.26002315058403\n"
     ]
    },
    {
     "data": {
      "application/javascript": [
       "parent.postMessage({\"jupyterEvent\": \"custom.exercise_interaction\", \"data\": {\"outcomeType\": 1, \"valueTowardsCompletion\": 0.16666666666666666, \"interactionType\": 1, \"questionType\": 1, \"questionId\": \"2_PercentMissingValues\", \"learnToolsVersion\": \"0.3.4\", \"failureMessage\": \"\", \"exceptionClass\": \"\", \"trace\": \"\"}}, \"*\")"
      ],
      "text/plain": [
       "<IPython.core.display.Javascript object>"
      ]
     },
     "metadata": {},
     "output_type": "display_data"
    },
    {
     "data": {
      "text/markdown": [
       "<span style=\"color:#33cc33\">Correct</span>"
      ],
      "text/plain": [
       "Correct"
      ]
     },
     "metadata": {},
     "output_type": "display_data"
    }
   ],
   "source": [
    "# TODO: Your code here!\n",
    "\n",
    "missing_values_count = sf_permits.isnull().sum()\n",
    "missing_values_count[0:10]\n",
    "\n",
    "\n",
    "total_cells = np.product(sf_permits.shape)\n",
    "total_missing = missing_values_count.sum()\n",
    "percent_missing = (total_missing/total_cells) * 100\n",
    "print(percent_missing)\n",
    "\n",
    "# Check your answer\n",
    "q2.check()"
   ]
  },
  {
   "cell_type": "code",
   "execution_count": 7,
   "id": "52badf6f",
   "metadata": {
    "execution": {
     "iopub.execute_input": "2023-03-22T14:11:45.766468Z",
     "iopub.status.busy": "2023-03-22T14:11:45.765977Z",
     "iopub.status.idle": "2023-03-22T14:11:45.781016Z",
     "shell.execute_reply": "2023-03-22T14:11:45.779558Z"
    },
    "papermill": {
     "duration": 0.028075,
     "end_time": "2023-03-22T14:11:45.783940",
     "exception": false,
     "start_time": "2023-03-22T14:11:45.755865",
     "status": "completed"
    },
    "tags": []
   },
   "outputs": [
    {
     "data": {
      "application/javascript": [
       "parent.postMessage({\"jupyterEvent\": \"custom.exercise_interaction\", \"data\": {\"interactionType\": 2, \"questionType\": 1, \"questionId\": \"2_PercentMissingValues\", \"learnToolsVersion\": \"0.3.4\", \"valueTowardsCompletion\": 0.0, \"failureMessage\": \"\", \"exceptionClass\": \"\", \"trace\": \"\", \"outcomeType\": 4}}, \"*\")"
      ],
      "text/plain": [
       "<IPython.core.display.Javascript object>"
      ]
     },
     "metadata": {},
     "output_type": "display_data"
    },
    {
     "data": {
      "text/markdown": [
       "<span style=\"color:#3366cc\">Hint:</span> You can begin by getting the number of missing entries in each column with `missing_values_count = sf_permits.isnull().sum()`."
      ],
      "text/plain": [
       "Hint: You can begin by getting the number of missing entries in each column with `missing_values_count = sf_permits.isnull().sum()`."
      ]
     },
     "metadata": {},
     "output_type": "display_data"
    },
    {
     "data": {
      "application/javascript": [
       "parent.postMessage({\"jupyterEvent\": \"custom.exercise_interaction\", \"data\": {\"interactionType\": 3, \"questionType\": 1, \"questionId\": \"2_PercentMissingValues\", \"learnToolsVersion\": \"0.3.4\", \"valueTowardsCompletion\": 0.0, \"failureMessage\": \"\", \"exceptionClass\": \"\", \"trace\": \"\", \"outcomeType\": 4}}, \"*\")"
      ],
      "text/plain": [
       "<IPython.core.display.Javascript object>"
      ]
     },
     "metadata": {},
     "output_type": "display_data"
    },
    {
     "data": {
      "text/markdown": [
       "<span style=\"color:#33cc99\">Solution:</span> \n",
       "```python\n",
       "# get the number of missing data points per column\n",
       "missing_values_count = sf_permits.isnull().sum()\n",
       "\n",
       "# how many total missing values do we have?\n",
       "total_cells = np.product(sf_permits.shape)\n",
       "total_missing = missing_values_count.sum()\n",
       "\n",
       "# percent of data that is missing\n",
       "percent_missing = (total_missing/total_cells) * 100\n",
       "\n",
       "```"
      ],
      "text/plain": [
       "Solution: \n",
       "```python\n",
       "# get the number of missing data points per column\n",
       "missing_values_count = sf_permits.isnull().sum()\n",
       "\n",
       "# how many total missing values do we have?\n",
       "total_cells = np.product(sf_permits.shape)\n",
       "total_missing = missing_values_count.sum()\n",
       "\n",
       "# percent of data that is missing\n",
       "percent_missing = (total_missing/total_cells) * 100\n",
       "\n",
       "```"
      ]
     },
     "metadata": {},
     "output_type": "display_data"
    }
   ],
   "source": [
    "# Lines below will give you a hint or solution code\n",
    "q2.hint()\n",
    "q2.solution()"
   ]
  },
  {
   "cell_type": "markdown",
   "id": "74f099b2",
   "metadata": {
    "papermill": {
     "duration": 0.00821,
     "end_time": "2023-03-22T14:11:45.800542",
     "exception": false,
     "start_time": "2023-03-22T14:11:45.792332",
     "status": "completed"
    },
    "tags": []
   },
   "source": [
    "# 3) Figure out why the data is missing\n",
    "\n",
    "Look at the columns **\"Street Number Suffix\"** and **\"Zipcode\"** from the [San Francisco Building Permits dataset](https://www.kaggle.com/aparnashastry/building-permit-applications-data). Both of these contain missing values. \n",
    "- Which, if either, are missing because they don't exist? \n",
    "- Which, if either, are missing because they weren't recorded?  \n",
    "\n",
    "Once you have an answer, run the code cell below."
   ]
  },
  {
   "cell_type": "code",
   "execution_count": 8,
   "id": "062e634f",
   "metadata": {
    "execution": {
     "iopub.execute_input": "2023-03-22T14:11:45.820591Z",
     "iopub.status.busy": "2023-03-22T14:11:45.819081Z",
     "iopub.status.idle": "2023-03-22T14:11:45.830085Z",
     "shell.execute_reply": "2023-03-22T14:11:45.829062Z"
    },
    "papermill": {
     "duration": 0.023654,
     "end_time": "2023-03-22T14:11:45.832577",
     "exception": false,
     "start_time": "2023-03-22T14:11:45.808923",
     "status": "completed"
    },
    "tags": []
   },
   "outputs": [
    {
     "data": {
      "application/javascript": [
       "parent.postMessage({\"jupyterEvent\": \"custom.exercise_interaction\", \"data\": {\"outcomeType\": 1, \"valueTowardsCompletion\": 0.16666666666666666, \"interactionType\": 1, \"questionType\": 4, \"questionId\": \"3_WhyDataMissing\", \"learnToolsVersion\": \"0.3.4\", \"failureMessage\": \"\", \"exceptionClass\": \"\", \"trace\": \"\"}}, \"*\")"
      ],
      "text/plain": [
       "<IPython.core.display.Javascript object>"
      ]
     },
     "metadata": {},
     "output_type": "display_data"
    },
    {
     "data": {
      "text/markdown": [
       "<span style=\"color:#33cc33\">Correct:</span> \n",
       "\n",
       "If a value in the \"Street Number Suffix\" column is missing, it is likely because it does not exist. If a value in the \"Zipcode\" column is missing, it was not recorded."
      ],
      "text/plain": [
       "Correct: \n",
       "\n",
       "If a value in the \"Street Number Suffix\" column is missing, it is likely because it does not exist. If a value in the \"Zipcode\" column is missing, it was not recorded."
      ]
     },
     "metadata": {},
     "output_type": "display_data"
    }
   ],
   "source": [
    "# Check your answer (Run this code cell to receive credit!)\n",
    "\n",
    "\n",
    "q3.check()"
   ]
  },
  {
   "cell_type": "code",
   "execution_count": 9,
   "id": "399c1cfc",
   "metadata": {
    "execution": {
     "iopub.execute_input": "2023-03-22T14:11:45.853415Z",
     "iopub.status.busy": "2023-03-22T14:11:45.852250Z",
     "iopub.status.idle": "2023-03-22T14:11:45.862872Z",
     "shell.execute_reply": "2023-03-22T14:11:45.861945Z"
    },
    "papermill": {
     "duration": 0.023458,
     "end_time": "2023-03-22T14:11:45.865200",
     "exception": false,
     "start_time": "2023-03-22T14:11:45.841742",
     "status": "completed"
    },
    "tags": []
   },
   "outputs": [
    {
     "data": {
      "application/javascript": [
       "parent.postMessage({\"jupyterEvent\": \"custom.exercise_interaction\", \"data\": {\"interactionType\": 2, \"questionType\": 4, \"questionId\": \"3_WhyDataMissing\", \"learnToolsVersion\": \"0.3.4\", \"valueTowardsCompletion\": 0.0, \"failureMessage\": \"\", \"exceptionClass\": \"\", \"trace\": \"\", \"outcomeType\": 4}}, \"*\")"
      ],
      "text/plain": [
       "<IPython.core.display.Javascript object>"
      ]
     },
     "metadata": {},
     "output_type": "display_data"
    },
    {
     "data": {
      "text/markdown": [
       "<span style=\"color:#3366cc\">Hint:</span> Do all addresses generally have a street number suffix?  Do all addresses generally have a zipcode?"
      ],
      "text/plain": [
       "Hint: Do all addresses generally have a street number suffix?  Do all addresses generally have a zipcode?"
      ]
     },
     "metadata": {},
     "output_type": "display_data"
    }
   ],
   "source": [
    "# Line below will give you a hint\n",
    "q3.hint()"
   ]
  },
  {
   "cell_type": "markdown",
   "id": "7bf05cf9",
   "metadata": {
    "papermill": {
     "duration": 0.008632,
     "end_time": "2023-03-22T14:11:45.883168",
     "exception": false,
     "start_time": "2023-03-22T14:11:45.874536",
     "status": "completed"
    },
    "tags": []
   },
   "source": [
    "# 4) Drop missing values: rows\n",
    "\n",
    "If you removed all of the rows of `sf_permits` with missing values, how many rows are left?\n",
    "\n",
    "**Note**: Do not change the value of `sf_permits` when checking this.  "
   ]
  },
  {
   "cell_type": "code",
   "execution_count": 10,
   "id": "8546b3b3",
   "metadata": {
    "execution": {
     "iopub.execute_input": "2023-03-22T14:11:45.903892Z",
     "iopub.status.busy": "2023-03-22T14:11:45.903044Z",
     "iopub.status.idle": "2023-03-22T14:11:46.197468Z",
     "shell.execute_reply": "2023-03-22T14:11:46.196177Z"
    },
    "papermill": {
     "duration": 0.308271,
     "end_time": "2023-03-22T14:11:46.200428",
     "exception": false,
     "start_time": "2023-03-22T14:11:45.892157",
     "status": "completed"
    },
    "tags": []
   },
   "outputs": [
    {
     "data": {
      "text/html": [
       "<div>\n",
       "<style scoped>\n",
       "    .dataframe tbody tr th:only-of-type {\n",
       "        vertical-align: middle;\n",
       "    }\n",
       "\n",
       "    .dataframe tbody tr th {\n",
       "        vertical-align: top;\n",
       "    }\n",
       "\n",
       "    .dataframe thead th {\n",
       "        text-align: right;\n",
       "    }\n",
       "</style>\n",
       "<table border=\"1\" class=\"dataframe\">\n",
       "  <thead>\n",
       "    <tr style=\"text-align: right;\">\n",
       "      <th></th>\n",
       "      <th>Permit Number</th>\n",
       "      <th>Permit Type</th>\n",
       "      <th>Permit Type Definition</th>\n",
       "      <th>Permit Creation Date</th>\n",
       "      <th>Block</th>\n",
       "      <th>Lot</th>\n",
       "      <th>Street Number</th>\n",
       "      <th>Street Number Suffix</th>\n",
       "      <th>Street Name</th>\n",
       "      <th>Street Suffix</th>\n",
       "      <th>...</th>\n",
       "      <th>Existing Construction Type</th>\n",
       "      <th>Existing Construction Type Description</th>\n",
       "      <th>Proposed Construction Type</th>\n",
       "      <th>Proposed Construction Type Description</th>\n",
       "      <th>Site Permit</th>\n",
       "      <th>Supervisor District</th>\n",
       "      <th>Neighborhoods - Analysis Boundaries</th>\n",
       "      <th>Zipcode</th>\n",
       "      <th>Location</th>\n",
       "      <th>Record ID</th>\n",
       "    </tr>\n",
       "  </thead>\n",
       "  <tbody>\n",
       "  </tbody>\n",
       "</table>\n",
       "<p>0 rows × 43 columns</p>\n",
       "</div>"
      ],
      "text/plain": [
       "Empty DataFrame\n",
       "Columns: [Permit Number, Permit Type, Permit Type Definition, Permit Creation Date, Block, Lot, Street Number, Street Number Suffix, Street Name, Street Suffix, Unit, Unit Suffix, Description, Current Status, Current Status Date, Filed Date, Issued Date, Completed Date, First Construction Document Date, Structural Notification, Number of Existing Stories, Number of Proposed Stories, Voluntary Soft-Story Retrofit, Fire Only Permit, Permit Expiration Date, Estimated Cost, Revised Cost, Existing Use, Existing Units, Proposed Use, Proposed Units, Plansets, TIDF Compliance, Existing Construction Type, Existing Construction Type Description, Proposed Construction Type, Proposed Construction Type Description, Site Permit, Supervisor District, Neighborhoods - Analysis Boundaries, Zipcode, Location, Record ID]\n",
       "Index: []\n",
       "\n",
       "[0 rows x 43 columns]"
      ]
     },
     "execution_count": 10,
     "metadata": {},
     "output_type": "execute_result"
    }
   ],
   "source": [
    "# TODO: Your code here!\n",
    "sf_permits.dropna()"
   ]
  },
  {
   "cell_type": "markdown",
   "id": "da99b45e",
   "metadata": {
    "papermill": {
     "duration": 0.008796,
     "end_time": "2023-03-22T14:11:46.218795",
     "exception": false,
     "start_time": "2023-03-22T14:11:46.209999",
     "status": "completed"
    },
    "tags": []
   },
   "source": [
    "Once you have an answer, run the code cell below."
   ]
  },
  {
   "cell_type": "code",
   "execution_count": 11,
   "id": "767a9bc3",
   "metadata": {
    "execution": {
     "iopub.execute_input": "2023-03-22T14:11:46.239994Z",
     "iopub.status.busy": "2023-03-22T14:11:46.239033Z",
     "iopub.status.idle": "2023-03-22T14:11:46.248324Z",
     "shell.execute_reply": "2023-03-22T14:11:46.247197Z"
    },
    "papermill": {
     "duration": 0.022737,
     "end_time": "2023-03-22T14:11:46.250710",
     "exception": false,
     "start_time": "2023-03-22T14:11:46.227973",
     "status": "completed"
    },
    "tags": []
   },
   "outputs": [
    {
     "data": {
      "application/javascript": [
       "parent.postMessage({\"jupyterEvent\": \"custom.exercise_interaction\", \"data\": {\"outcomeType\": 1, \"valueTowardsCompletion\": 0.16666666666666666, \"interactionType\": 1, \"questionType\": 4, \"questionId\": \"4_DropMissingRows\", \"learnToolsVersion\": \"0.3.4\", \"failureMessage\": \"\", \"exceptionClass\": \"\", \"trace\": \"\"}}, \"*\")"
      ],
      "text/plain": [
       "<IPython.core.display.Javascript object>"
      ]
     },
     "metadata": {},
     "output_type": "display_data"
    },
    {
     "data": {
      "text/markdown": [
       "<span style=\"color:#33cc33\">Correct:</span> \n",
       "\n",
       "There are no rows remaining in the dataset!"
      ],
      "text/plain": [
       "Correct: \n",
       "\n",
       "There are no rows remaining in the dataset!"
      ]
     },
     "metadata": {},
     "output_type": "display_data"
    }
   ],
   "source": [
    "# Check your answer (Run this code cell to receive credit!)\n",
    "q4.check()"
   ]
  },
  {
   "cell_type": "code",
   "execution_count": 12,
   "id": "5553f6b9",
   "metadata": {
    "execution": {
     "iopub.execute_input": "2023-03-22T14:11:46.272621Z",
     "iopub.status.busy": "2023-03-22T14:11:46.271250Z",
     "iopub.status.idle": "2023-03-22T14:11:46.276655Z",
     "shell.execute_reply": "2023-03-22T14:11:46.275600Z"
    },
    "papermill": {
     "duration": 0.01938,
     "end_time": "2023-03-22T14:11:46.279588",
     "exception": false,
     "start_time": "2023-03-22T14:11:46.260208",
     "status": "completed"
    },
    "tags": []
   },
   "outputs": [],
   "source": [
    "# Line below will give you a hint\n",
    "#q4.hint()"
   ]
  },
  {
   "cell_type": "markdown",
   "id": "35771372",
   "metadata": {
    "papermill": {
     "duration": 0.009079,
     "end_time": "2023-03-22T14:11:46.298429",
     "exception": false,
     "start_time": "2023-03-22T14:11:46.289350",
     "status": "completed"
    },
    "tags": []
   },
   "source": [
    "# 5) Drop missing values: columns\n",
    "\n",
    "Now try removing all the columns with empty values.  \n",
    "- Create a new DataFrame called `sf_permits_with_na_dropped` that has all of the columns with empty values removed.  \n",
    "- How many columns were removed from the original `sf_permits` DataFrame? Use this number to set the value of the `dropped_columns` variable below."
   ]
  },
  {
   "cell_type": "code",
   "execution_count": 13,
   "id": "b395adc6",
   "metadata": {
    "execution": {
     "iopub.execute_input": "2023-03-22T14:11:46.319620Z",
     "iopub.status.busy": "2023-03-22T14:11:46.319081Z",
     "iopub.status.idle": "2023-03-22T14:11:46.610851Z",
     "shell.execute_reply": "2023-03-22T14:11:46.609565Z"
    },
    "papermill": {
     "duration": 0.305752,
     "end_time": "2023-03-22T14:11:46.613665",
     "exception": false,
     "start_time": "2023-03-22T14:11:46.307913",
     "status": "completed"
    },
    "tags": []
   },
   "outputs": [
    {
     "data": {
      "application/javascript": [
       "parent.postMessage({\"jupyterEvent\": \"custom.exercise_interaction\", \"data\": {\"outcomeType\": 1, \"valueTowardsCompletion\": 0.16666666666666666, \"interactionType\": 1, \"questionType\": 1, \"questionId\": \"5_DropMissingCols\", \"learnToolsVersion\": \"0.3.4\", \"failureMessage\": \"\", \"exceptionClass\": \"\", \"trace\": \"\"}}, \"*\")"
      ],
      "text/plain": [
       "<IPython.core.display.Javascript object>"
      ]
     },
     "metadata": {},
     "output_type": "display_data"
    },
    {
     "data": {
      "text/markdown": [
       "<span style=\"color:#33cc33\">Correct</span>"
      ],
      "text/plain": [
       "Correct"
      ]
     },
     "metadata": {},
     "output_type": "display_data"
    }
   ],
   "source": [
    "# TODO: Your code here\n",
    "sf_permits_with_na_dropped = sf_permits.dropna(axis=1)\n",
    "cols_in_original_dataset = sf_permits.shape[1]\n",
    "cols_in_na_dropped = sf_permits_with_na_dropped.shape[1]\n",
    "dropped_columns = cols_in_original_dataset - cols_in_na_dropped\n",
    "\n",
    "# Check your answer\n",
    "q5.check()"
   ]
  },
  {
   "cell_type": "code",
   "execution_count": 14,
   "id": "68851508",
   "metadata": {
    "execution": {
     "iopub.execute_input": "2023-03-22T14:11:46.635832Z",
     "iopub.status.busy": "2023-03-22T14:11:46.634966Z",
     "iopub.status.idle": "2023-03-22T14:11:46.647645Z",
     "shell.execute_reply": "2023-03-22T14:11:46.646555Z"
    },
    "papermill": {
     "duration": 0.026809,
     "end_time": "2023-03-22T14:11:46.650132",
     "exception": false,
     "start_time": "2023-03-22T14:11:46.623323",
     "status": "completed"
    },
    "tags": []
   },
   "outputs": [
    {
     "data": {
      "application/javascript": [
       "parent.postMessage({\"jupyterEvent\": \"custom.exercise_interaction\", \"data\": {\"interactionType\": 2, \"questionType\": 1, \"questionId\": \"5_DropMissingCols\", \"learnToolsVersion\": \"0.3.4\", \"valueTowardsCompletion\": 0.0, \"failureMessage\": \"\", \"exceptionClass\": \"\", \"trace\": \"\", \"outcomeType\": 4}}, \"*\")"
      ],
      "text/plain": [
       "<IPython.core.display.Javascript object>"
      ]
     },
     "metadata": {},
     "output_type": "display_data"
    },
    {
     "data": {
      "text/markdown": [
       "<span style=\"color:#3366cc\">Hint:</span> You can begin by getting the dropping all columns with missing values with `sf_permits.dropna(axis=1)`."
      ],
      "text/plain": [
       "Hint: You can begin by getting the dropping all columns with missing values with `sf_permits.dropna(axis=1)`."
      ]
     },
     "metadata": {},
     "output_type": "display_data"
    },
    {
     "data": {
      "application/javascript": [
       "parent.postMessage({\"jupyterEvent\": \"custom.exercise_interaction\", \"data\": {\"interactionType\": 3, \"questionType\": 1, \"questionId\": \"5_DropMissingCols\", \"learnToolsVersion\": \"0.3.4\", \"valueTowardsCompletion\": 0.0, \"failureMessage\": \"\", \"exceptionClass\": \"\", \"trace\": \"\", \"outcomeType\": 4}}, \"*\")"
      ],
      "text/plain": [
       "<IPython.core.display.Javascript object>"
      ]
     },
     "metadata": {},
     "output_type": "display_data"
    },
    {
     "data": {
      "text/markdown": [
       "<span style=\"color:#33cc99\">Solution:</span> \n",
       "```python\n",
       "# remove all columns with at least one missing value\n",
       "sf_permits_with_na_dropped = sf_permits.dropna(axis=1)\n",
       "\n",
       "# calculate number of dropped columns\n",
       "cols_in_original_dataset = sf_permits.shape[1]\n",
       "cols_in_na_dropped = sf_permits_with_na_dropped.shape[1]\n",
       "dropped_columns = cols_in_original_dataset - cols_in_na_dropped\n",
       "\n",
       "```"
      ],
      "text/plain": [
       "Solution: \n",
       "```python\n",
       "# remove all columns with at least one missing value\n",
       "sf_permits_with_na_dropped = sf_permits.dropna(axis=1)\n",
       "\n",
       "# calculate number of dropped columns\n",
       "cols_in_original_dataset = sf_permits.shape[1]\n",
       "cols_in_na_dropped = sf_permits_with_na_dropped.shape[1]\n",
       "dropped_columns = cols_in_original_dataset - cols_in_na_dropped\n",
       "\n",
       "```"
      ]
     },
     "metadata": {},
     "output_type": "display_data"
    }
   ],
   "source": [
    "# Lines below will give you a hint or solution code\n",
    "q5.hint()\n",
    "q5.solution()"
   ]
  },
  {
   "cell_type": "markdown",
   "id": "0cd2de3a",
   "metadata": {
    "papermill": {
     "duration": 0.009702,
     "end_time": "2023-03-22T14:11:46.670032",
     "exception": false,
     "start_time": "2023-03-22T14:11:46.660330",
     "status": "completed"
    },
    "tags": []
   },
   "source": [
    "# 6) Fill in missing values automatically\n",
    "\n",
    "Try replacing all the NaN's in the `sf_permits` data with the one that comes directly after it and then replacing any remaining NaN's with 0.  Set the result to a new DataFrame `sf_permits_with_na_imputed`."
   ]
  },
  {
   "cell_type": "code",
   "execution_count": 15,
   "id": "e3f51d3e",
   "metadata": {
    "execution": {
     "iopub.execute_input": "2023-03-22T14:11:46.693018Z",
     "iopub.status.busy": "2023-03-22T14:11:46.692196Z",
     "iopub.status.idle": "2023-03-22T14:11:47.697080Z",
     "shell.execute_reply": "2023-03-22T14:11:47.695836Z"
    },
    "papermill": {
     "duration": 1.020082,
     "end_time": "2023-03-22T14:11:47.700198",
     "exception": false,
     "start_time": "2023-03-22T14:11:46.680116",
     "status": "completed"
    },
    "tags": []
   },
   "outputs": [
    {
     "data": {
      "application/javascript": [
       "parent.postMessage({\"jupyterEvent\": \"custom.exercise_interaction\", \"data\": {\"outcomeType\": 1, \"valueTowardsCompletion\": 0.16666666666666666, \"interactionType\": 1, \"questionType\": 1, \"questionId\": \"6_ImputeAutomatically\", \"learnToolsVersion\": \"0.3.4\", \"failureMessage\": \"\", \"exceptionClass\": \"\", \"trace\": \"\"}}, \"*\")"
      ],
      "text/plain": [
       "<IPython.core.display.Javascript object>"
      ]
     },
     "metadata": {},
     "output_type": "display_data"
    },
    {
     "data": {
      "text/markdown": [
       "<span style=\"color:#33cc33\">Correct</span>"
      ],
      "text/plain": [
       "Correct"
      ]
     },
     "metadata": {},
     "output_type": "display_data"
    }
   ],
   "source": [
    "# TODO: Your code here\n",
    "sf_permits_with_na_imputed = sf_permits.fillna(method='bfill', axis=0).fillna(0)\n",
    "\n",
    "# Check your answer\n",
    "q6.check()"
   ]
  },
  {
   "cell_type": "code",
   "execution_count": 16,
   "id": "6cf2164e",
   "metadata": {
    "execution": {
     "iopub.execute_input": "2023-03-22T14:11:47.724682Z",
     "iopub.status.busy": "2023-03-22T14:11:47.723393Z",
     "iopub.status.idle": "2023-03-22T14:11:47.738783Z",
     "shell.execute_reply": "2023-03-22T14:11:47.737578Z"
    },
    "papermill": {
     "duration": 0.030481,
     "end_time": "2023-03-22T14:11:47.741410",
     "exception": false,
     "start_time": "2023-03-22T14:11:47.710929",
     "status": "completed"
    },
    "tags": []
   },
   "outputs": [
    {
     "data": {
      "application/javascript": [
       "parent.postMessage({\"jupyterEvent\": \"custom.exercise_interaction\", \"data\": {\"interactionType\": 2, \"questionType\": 1, \"questionId\": \"6_ImputeAutomatically\", \"learnToolsVersion\": \"0.3.4\", \"valueTowardsCompletion\": 0.0, \"failureMessage\": \"\", \"exceptionClass\": \"\", \"trace\": \"\", \"outcomeType\": 4}}, \"*\")"
      ],
      "text/plain": [
       "<IPython.core.display.Javascript object>"
      ]
     },
     "metadata": {},
     "output_type": "display_data"
    },
    {
     "data": {
      "text/markdown": [
       "<span style=\"color:#3366cc\">Hint:</span> Use the `.fillna()` method twice."
      ],
      "text/plain": [
       "Hint: Use the `.fillna()` method twice."
      ]
     },
     "metadata": {},
     "output_type": "display_data"
    },
    {
     "data": {
      "application/javascript": [
       "parent.postMessage({\"jupyterEvent\": \"custom.exercise_interaction\", \"data\": {\"interactionType\": 3, \"questionType\": 1, \"questionId\": \"6_ImputeAutomatically\", \"learnToolsVersion\": \"0.3.4\", \"valueTowardsCompletion\": 0.0, \"failureMessage\": \"\", \"exceptionClass\": \"\", \"trace\": \"\", \"outcomeType\": 4}}, \"*\")"
      ],
      "text/plain": [
       "<IPython.core.display.Javascript object>"
      ]
     },
     "metadata": {},
     "output_type": "display_data"
    },
    {
     "data": {
      "text/markdown": [
       "<span style=\"color:#33cc99\">Solution:</span> \n",
       "```python\n",
       "sf_permits_with_na_imputed = sf_permits.fillna(method='bfill', axis=0).fillna(0)\n",
       "\n",
       "```"
      ],
      "text/plain": [
       "Solution: \n",
       "```python\n",
       "sf_permits_with_na_imputed = sf_permits.fillna(method='bfill', axis=0).fillna(0)\n",
       "\n",
       "```"
      ]
     },
     "metadata": {},
     "output_type": "display_data"
    }
   ],
   "source": [
    "# Lines below will give you a hint or solution code\n",
    "q6.hint()\n",
    "q6.solution()"
   ]
  },
  {
   "cell_type": "markdown",
   "id": "123da1b3",
   "metadata": {
    "papermill": {
     "duration": 0.010569,
     "end_time": "2023-03-22T14:11:47.763150",
     "exception": false,
     "start_time": "2023-03-22T14:11:47.752581",
     "status": "completed"
    },
    "tags": []
   },
   "source": [
    "# More practice\n",
    "\n",
    "If you're looking for more practice handling missing values:\n",
    "\n",
    "* Check out [this noteboook](https://www.kaggle.com/alexisbcook/missing-values) on handling missing values using scikit-learn's imputer. \n",
    "* Look back at the \"Zipcode\" column in the `sf_permits` dataset, which has some missing values. How would you go about figuring out what the actual zipcode of each address should be? (You might try using another dataset. You can search for datasets about San Fransisco on the [Datasets listing](https://www.kaggle.com/datasets).) \n",
    "\n",
    "# Keep going\n",
    "\n",
    "In the next lesson, learn how to [**apply scaling and normalization**](https://www.kaggle.com/alexisbcook/scaling-and-normalization) to transform your data."
   ]
  },
  {
   "cell_type": "markdown",
   "id": "d9f6349b",
   "metadata": {
    "papermill": {
     "duration": 0.010404,
     "end_time": "2023-03-22T14:11:47.784422",
     "exception": false,
     "start_time": "2023-03-22T14:11:47.774018",
     "status": "completed"
    },
    "tags": []
   },
   "source": [
    "---\n",
    "\n",
    "\n",
    "\n",
    "\n",
    "*Have questions or comments? Visit the [course discussion forum](https://www.kaggle.com/learn/data-cleaning/discussion) to chat with other learners.*"
   ]
  }
 ],
 "metadata": {
  "kernelspec": {
   "display_name": "Python 3",
   "language": "python",
   "name": "python3"
  },
  "language_info": {
   "codemirror_mode": {
    "name": "ipython",
    "version": 3
   },
   "file_extension": ".py",
   "mimetype": "text/x-python",
   "name": "python",
   "nbconvert_exporter": "python",
   "pygments_lexer": "ipython3",
   "version": "3.7.12"
  },
  "papermill": {
   "default_parameters": {},
   "duration": 22.007261,
   "end_time": "2023-03-22T14:11:48.923300",
   "environment_variables": {},
   "exception": null,
   "input_path": "__notebook__.ipynb",
   "output_path": "__notebook__.ipynb",
   "parameters": {},
   "start_time": "2023-03-22T14:11:26.916039",
   "version": "2.4.0"
  }
 },
 "nbformat": 4,
 "nbformat_minor": 5
}
